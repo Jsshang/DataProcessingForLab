{
  "nbformat": 4,
  "nbformat_minor": 0,
  "metadata": {
    "colab": {
      "provenance": [],
      "include_colab_link": true
    },
    "kernelspec": {
      "name": "python3",
      "display_name": "Python 3"
    },
    "language_info": {
      "name": "python"
    }
  },
  "cells": [
    {
      "cell_type": "markdown",
      "metadata": {
        "id": "view-in-github",
        "colab_type": "text"
      },
      "source": [
        "<a href=\"https://colab.research.google.com/github/Jsshang/DataProcessingForLab/blob/main/Trials.ipynb\" target=\"_parent\"><img src=\"https://colab.research.google.com/assets/colab-badge.svg\" alt=\"Open In Colab\"/></a>"
      ]
    },
    {
      "cell_type": "code",
      "execution_count": null,
      "metadata": {
        "colab": {
          "base_uri": "https://localhost:8080/"
        },
        "id": "z_2ezU3OQDIC",
        "outputId": "68276fdc-4e10-47d5-de96-a270df482051"
      },
      "outputs": [
        {
          "output_type": "stream",
          "name": "stdout",
          "text": [
            "Mounted at /content/drive\n"
          ]
        }
      ],
      "source": [
        "from google.colab import drive\n",
        "drive.mount('/content/drive')"
      ]
    },
    {
      "cell_type": "code",
      "source": [
        "import pandas as pd\n",
        "import numpy as np\n",
        "import matplotlib.pyplot as plt\n",
        "from scipy.signal import find_peaks\n",
        "from typing import *\n",
        "import os"
      ],
      "metadata": {
        "id": "AnyuRB2PQGev"
      },
      "execution_count": 2,
      "outputs": []
    },
    {
      "cell_type": "code",
      "source": [
        "folder = 'drive/MyDrive/toshare'"
      ],
      "metadata": {
        "id": "yya4jwyQQKIC"
      },
      "execution_count": 3,
      "outputs": []
    },
    {
      "cell_type": "code",
      "source": [
        "def getPeakInfos(filePath: str, peak_index_offset: int = 13500, min_freq_diff: int = None) -> Tuple[float, float, float, float, float]:\n",
        "  \"\"\"\n",
        "    Get the location and the power of the left peak and the right peak.\n",
        "  \n",
        "    Parameters:\n",
        "    filePath (str): the input csv file with two columns, the first column represent frequency, the second column represent power.\n",
        "    peak_index_offset (int): the index offset when we find left peak and right peak\n",
        "    min_freq_diff (int)\n",
        "  \n",
        "    Returns:\n",
        "    Tuple[float, float, float, float, float]: left peak frequency, left peak power, right peak frequency, right peak power, max peak frequency\n",
        "  \"\"\"\n",
        "  df = pd.read_csv(filePath)\n",
        "  df.columns = [\"frequency\", \"power\"]\n",
        "\n",
        "  frequencies = df[\"frequency\"].values\n",
        "  powers = df[\"power\"].values\n",
        "\n",
        "  maxPowerIdx = np.argmax(powers)\n",
        "  maxPeakFreq = frequencies[maxPowerIdx]\n",
        "\n",
        "  powerPeaksIndices, _ = find_peaks(powers, prominence=5)  # BEST!\n",
        "\n",
        "  rightPeakIdx = powerPeaksIndices[-1]\n",
        "  for rightPeakIdx in powerPeaksIndices[::-1]:\n",
        "    if rightPeakIdx < maxPowerIdx + peak_index_offset:\n",
        "      break\n",
        "\n",
        "  rightPeakFreq = frequencies[rightPeakIdx]\n",
        "  rightPeakPower = powers[rightPeakIdx]\n",
        "  if min_freq_diff and rightPeakFreq - maxPeakFreq < min_freq_diff:\n",
        "    rightPeakFreq = maxPeakFreq + 1000\n",
        "    rightPeakPower = 0\n",
        "\n",
        "  leftPeakIdx = powerPeaksIndices[0]\n",
        "  for leftPeakIdx in powerPeaksIndices:\n",
        "    if leftPeakIdx > maxPowerIdx - peak_index_offset:\n",
        "      break\n",
        "  \n",
        "  leftPeakFreq = frequencies[leftPeakIdx]\n",
        "  leftPeakPower = powers[leftPeakIdx]\n",
        "  if min_freq_diff and maxPeakFreq - leftPeakFreq < min_freq_diff:\n",
        "    leftPeakFreq = maxPeakFreq - 1000\n",
        "    leftPeakPower = 0\n",
        "\n",
        "  return (leftPeakFreq, leftPeakPower, rightPeakFreq, rightPeakPower, maxPeakFreq)\n"
      ],
      "metadata": {
        "id": "kTLHCIHqTJK2"
      },
      "execution_count": 5,
      "outputs": []
    },
    {
      "cell_type": "code",
      "source": [
        "# Trail 1\n",
        "x_axis = [i for i in range(20, 251)]\n",
        "left_f, left_peak, right_f, right_peak = [], [], [], []\n",
        "\n",
        "diff = []\n",
        "\n",
        "for i in range(20, 251):\n",
        "\n",
        "    csv_name = f\"{folder}/Trial1/{i}.0MHz.csv\"\n",
        "\n",
        "    leftF, leftP, rightF, rightP, maxF = getPeakInfos(csv_name)\n",
        "    right_f.append(rightF)\n",
        "    diff.append(rightF - maxF)\n",
        "    right_peak.append(rightP)\n",
        "\n",
        "df1 = pd.DataFrame()\n",
        "df1['Freq[MHz]'] = x_axis\n",
        "df1['right_frequency'] = right_f\n",
        "df1['right_peak'] = right_peak\n",
        "\n",
        "import statistics\n",
        "std_dev = statistics.stdev(diff)\n",
        "# print(std_dev)\n",
        "\n",
        "# plt.plot(x_axis, right_peak)\n",
        "plt.plot(x_axis, right_peak)\n",
        "plt.show()"
      ],
      "metadata": {
        "id": "UoT6KzgOQLIk"
      },
      "execution_count": null,
      "outputs": []
    },
    {
      "cell_type": "code",
      "source": [
        "# Trail 2\n",
        "df2_left = pd.DataFrame()\n",
        "df2_right = pd.DataFrame()\n",
        "df2_left['Freq[MHz]'] = [i for i in range(20, 251, 5)]\n",
        "df2_right['Freq[MHz]'] = [i for i in range(20, 251, 5)]\n",
        "\n",
        "for ph in range(4, 10):\n",
        "  leftPeaks = []\n",
        "  rightPeaks = []  \n",
        "  leftFreqsDiff = []\n",
        "  rightFreqsDiff = []\n",
        "  for freq in range(20, 251, 5):\n",
        "    fileName = f\"{folder}/Trial2/PH{ph}/{freq}.0MHz.csv\"\n",
        "    leftF, leftP, rightF, rightP, maxF = getPeakInfos(fileName, peak_index_offset = 8500)\n",
        "    leftFreqsDiff.append(maxF - leftF)\n",
        "    leftPeaks.append(leftP)\n",
        "    rightFreqsDiff.append(rightF - maxF)\n",
        "    rightPeaks.append(rightP)\n",
        "  \n",
        "  df2_left[f'PH{ph}'] = leftPeaks\n",
        "  df2_right[f'PH{ph}'] = rightPeaks\n",
        "  df2_left[f'PH{ph}_pk_freq_diff'] = leftFreqsDiff\n",
        "  df2_right[f'PH{ph}_pk_freq_diff'] = rightFreqsDiff\n"
      ],
      "metadata": {
        "id": "_4bH1141apSI"
      },
      "execution_count": null,
      "outputs": []
    },
    {
      "cell_type": "code",
      "source": [
        "df2_right.head()\n",
        "# for ph in range(4, 10):\n",
        "#   print(df2_left[f'PH{ph}_pk_freq_diff'].std())\n",
        "# example\n",
        "\n",
        "# print(df2_right['PH4'])\n",
        "x_axis = [i for i in range(20, 251, 5)]\n",
        "plt.scatter(x_axis, df2_right['PH5'])\n",
        "plt.show()"
      ],
      "metadata": {
        "id": "Rrx7MVoWeLqA"
      },
      "execution_count": null,
      "outputs": []
    },
    {
      "cell_type": "code",
      "source": [
        "df2_left.round(2).to_csv(f\"{folder}/df2_left.csv\", index=False)\n",
        "df2_right.round(2).to_csv(f\"{folder}/df2_right.csv\", index=False)"
      ],
      "metadata": {
        "id": "wbFObXxawQfX"
      },
      "execution_count": null,
      "outputs": []
    },
    {
      "cell_type": "code",
      "source": [
        "# Trial 3\n",
        "trial3Folder = f\"{folder}/Trial3\"\n",
        "\n",
        "# df = pd.DataFrame(columns=['PH', 'BgAc', 'BgDc', 'DS', 'LeftPower', 'RightPower', 'LeftFreqDiff', 'RightFreqDiff'])\n",
        "m = {\n",
        "    'PH': [], \n",
        "    'BgAc': [],\n",
        "    'BgDc': [], \n",
        "    'DS': [], \n",
        "    'LeftPower': [], \n",
        "    'RightPower': [], \n",
        "    'LeftFreqDiff': [], \n",
        "    'RightFreqDiff': []\n",
        "}\n",
        "\n",
        "for ph in (0, 4, 7, 9):\n",
        "  phDir = f\"PH{ph}\"\n",
        "  for bgAc in (10, 20, 30):\n",
        "    for bgDc in range(-2, 3):\n",
        "      bgDir = f\"B-{bgAc}-{abs(bgDc)}\"\n",
        "      if bgDc > 0:\n",
        "        bgDir = f\"B-{bgAc}+{bgDc}\"\n",
        "      for ds in range(-40, 11, 10):\n",
        "        fileName = f\"{ds}dBm_-30_0offset.csv\"\n",
        "        filePath = f\"{trial3Folder}/{phDir}/{bgDir}/{fileName}\"\n",
        "        leftF, leftP, rightF, rightP, maxF = getPeakInfos(filePath, peak_index_offset = 8500, min_freq_diff = 950)\n",
        "        leftFreqDiff = maxF - leftF\n",
        "        rightFreqDiff = rightF - maxF\n",
        "        m['PH'].append(ph) \n",
        "        m['BgAc'].append(bgAc)\n",
        "        m['BgDc'].append(bgDc) \n",
        "        m['DS'].append(ds) \n",
        "        m['LeftPower'].append(leftP) \n",
        "        m['RightPower'].append(rightP) \n",
        "        m['LeftFreqDiff'].append(leftFreqDiff) \n",
        "        m['RightFreqDiff'].append(rightFreqDiff)\n",
        "\n",
        "df3 = pd.DataFrame(m)\n"
      ],
      "metadata": {
        "id": "Z5bfxI3Se0qs"
      },
      "execution_count": null,
      "outputs": []
    },
    {
      "cell_type": "code",
      "source": [
        "df3.head()\n",
        "df3['RightFreqDiff'].std()"
      ],
      "metadata": {
        "id": "uQ8eFL_EkrOZ"
      },
      "execution_count": null,
      "outputs": []
    },
    {
      "cell_type": "code",
      "source": [
        "df3.tail(5)"
      ],
      "metadata": {
        "id": "qHz9TLzmzsiB"
      },
      "execution_count": null,
      "outputs": []
    },
    {
      "cell_type": "code",
      "source": [
        "df3.round(2).to_csv(f\"{folder}/df3.csv\")"
      ],
      "metadata": {
        "id": "AjXgYc4ywp7e"
      },
      "execution_count": null,
      "outputs": []
    },
    {
      "cell_type": "code",
      "source": [
        "filter_df = df3[(df3['LeftFreqDiff'] > 800) & (df3['LeftFreqDiff'] < 950)]\n",
        "filter_df = df3[(df3['RightFreqDiff'] > 800) & (df3['RightFreqDiff'] < 950)]\n",
        "filter_df"
      ],
      "metadata": {
        "id": "pcaJbgoWvojT"
      },
      "execution_count": null,
      "outputs": []
    },
    {
      "cell_type": "code",
      "source": [
        "# Trail5\n",
        "\n",
        "x_axis = [i for i in range(4, 10)]\n",
        "left_f, left_peak, right_f, right_peak = [], [], [], []\n",
        "error, diff = [], []\n",
        "\n",
        "for i in range(4, 10):\n",
        "\n",
        "  right_peak_stat = []\n",
        "  right_peak_loc_stat = []\n",
        "  diff_temp = []\n",
        "\n",
        "  for j in range(10):\n",
        "\n",
        "    csv_name = f\"{folder}/Trial5/PH{i}/{j}.csv\"\n",
        "\n",
        "    leftF, leftP, rightF, rightP, maxF = getPeakInfos(csv_name)\n",
        "    right_peak_loc_stat.append(rightF)\n",
        "    right_peak_stat.append(rightP)\n",
        "    # right_f.append(rightF)\n",
        "    # diff.append(rightF - maxF)\n",
        "    # right_peak.append(rightP)\n",
        "\n",
        "  right_f.append(np.average(right_peak_loc_stat))\n",
        "  right_peak.append(np.average(right_peak_stat))\n",
        "\n",
        "df5 = pd.DataFrame()\n",
        "df5['Freq[MHz]'] = x_axis\n",
        "df5['right_frequency'] = right_f\n",
        "df5['right_peak'] = right_peak\n",
        "\n",
        "# import statistics\n",
        "# std_dev = statistics.stdev(diff)\n",
        "# print(std_dev)\n",
        "\n",
        "# plt.plot(x_axis, right_peak)\n",
        "plt.plot(x_axis, right_peak)\n",
        "plt.show()\n",
        "\n"
      ],
      "metadata": {
        "id": "v-RazVN81nn-"
      },
      "execution_count": null,
      "outputs": []
    }
  ]
}